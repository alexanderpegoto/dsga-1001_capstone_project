{
 "cells": [
  {
   "cell_type": "markdown",
   "metadata": {},
   "source": [
    "### Load Datasets"
   ]
  },
  {
   "cell_type": "code",
   "execution_count": 98,
   "metadata": {},
   "outputs": [
    {
     "data": {
      "text/html": [
       "<div>\n",
       "<style scoped>\n",
       "    .dataframe tbody tr th:only-of-type {\n",
       "        vertical-align: middle;\n",
       "    }\n",
       "\n",
       "    .dataframe tbody tr th {\n",
       "        vertical-align: top;\n",
       "    }\n",
       "\n",
       "    .dataframe thead th {\n",
       "        text-align: right;\n",
       "    }\n",
       "</style>\n",
       "<table border=\"1\" class=\"dataframe\">\n",
       "  <thead>\n",
       "    <tr style=\"text-align: right;\">\n",
       "      <th></th>\n",
       "      <th>Average Rating</th>\n",
       "      <th>Average Difficulty</th>\n",
       "      <th>Number of Ratings</th>\n",
       "      <th>Received a 'pepper'?</th>\n",
       "      <th>Proportion Would Retake</th>\n",
       "      <th>Online Ratings Count</th>\n",
       "      <th>Male</th>\n",
       "      <th>Female</th>\n",
       "    </tr>\n",
       "  </thead>\n",
       "  <tbody>\n",
       "    <tr>\n",
       "      <th>0</th>\n",
       "      <td>5.0</td>\n",
       "      <td>1.5</td>\n",
       "      <td>2.0</td>\n",
       "      <td>0.0</td>\n",
       "      <td>NaN</td>\n",
       "      <td>0.0</td>\n",
       "      <td>0</td>\n",
       "      <td>1</td>\n",
       "    </tr>\n",
       "    <tr>\n",
       "      <th>1</th>\n",
       "      <td>NaN</td>\n",
       "      <td>NaN</td>\n",
       "      <td>NaN</td>\n",
       "      <td>NaN</td>\n",
       "      <td>NaN</td>\n",
       "      <td>NaN</td>\n",
       "      <td>0</td>\n",
       "      <td>0</td>\n",
       "    </tr>\n",
       "    <tr>\n",
       "      <th>2</th>\n",
       "      <td>3.2</td>\n",
       "      <td>3.0</td>\n",
       "      <td>4.0</td>\n",
       "      <td>0.0</td>\n",
       "      <td>NaN</td>\n",
       "      <td>0.0</td>\n",
       "      <td>1</td>\n",
       "      <td>0</td>\n",
       "    </tr>\n",
       "    <tr>\n",
       "      <th>3</th>\n",
       "      <td>3.6</td>\n",
       "      <td>3.5</td>\n",
       "      <td>10.0</td>\n",
       "      <td>1.0</td>\n",
       "      <td>NaN</td>\n",
       "      <td>0.0</td>\n",
       "      <td>0</td>\n",
       "      <td>0</td>\n",
       "    </tr>\n",
       "    <tr>\n",
       "      <th>4</th>\n",
       "      <td>1.0</td>\n",
       "      <td>5.0</td>\n",
       "      <td>1.0</td>\n",
       "      <td>0.0</td>\n",
       "      <td>NaN</td>\n",
       "      <td>0.0</td>\n",
       "      <td>0</td>\n",
       "      <td>0</td>\n",
       "    </tr>\n",
       "  </tbody>\n",
       "</table>\n",
       "</div>"
      ],
      "text/plain": [
       "   Average Rating  Average Difficulty  Number of Ratings  \\\n",
       "0             5.0                 1.5                2.0   \n",
       "1             NaN                 NaN                NaN   \n",
       "2             3.2                 3.0                4.0   \n",
       "3             3.6                 3.5               10.0   \n",
       "4             1.0                 5.0                1.0   \n",
       "\n",
       "   Received a 'pepper'?  Proportion Would Retake  Online Ratings Count  Male  \\\n",
       "0                   0.0                      NaN                   0.0     0   \n",
       "1                   NaN                      NaN                   NaN     0   \n",
       "2                   0.0                      NaN                   0.0     1   \n",
       "3                   1.0                      NaN                   0.0     0   \n",
       "4                   0.0                      NaN                   0.0     0   \n",
       "\n",
       "   Female  \n",
       "0       1  \n",
       "1       0  \n",
       "2       0  \n",
       "3       0  \n",
       "4       0  "
      ]
     },
     "execution_count": 98,
     "metadata": {},
     "output_type": "execute_result"
    }
   ],
   "source": [
    "import pandas as pd\n",
    "import numpy as np\n",
    "\n",
    "rng = np.random.default_rng(17010868)\n",
    "#rng = rng.integers(1,1000000)\n",
    "\n",
    "# === Load Datasets ===\n",
    "# File paths\n",
    "num_file = \"/Users/kangkyeongmo/Desktop/School/2024_Fall/DS-GA_1001_001/Group_Project/Capstone/rmpCapstoneNum.csv\"\n",
    "\n",
    "# Define column names\n",
    "num_columns = [\n",
    "    \"Average Rating\", \"Average Difficulty\", \"Number of Ratings\",\n",
    "    \"Received a 'pepper'?\", \"Proportion Would Retake\",\n",
    "    \"Online Ratings Count\", \"Male\", \"Female\"\n",
    "]\n",
    "\n",
    "df_num = pd.read_csv(num_file, header=None, names=num_columns)\n",
    "\n",
    "df_num.head()"
   ]
  },
  {
   "cell_type": "code",
   "execution_count": 77,
   "metadata": {},
   "outputs": [
    {
     "data": {
      "text/html": [
       "<div>\n",
       "<style scoped>\n",
       "    .dataframe tbody tr th:only-of-type {\n",
       "        vertical-align: middle;\n",
       "    }\n",
       "\n",
       "    .dataframe tbody tr th {\n",
       "        vertical-align: top;\n",
       "    }\n",
       "\n",
       "    .dataframe thead th {\n",
       "        text-align: right;\n",
       "    }\n",
       "</style>\n",
       "<table border=\"1\" class=\"dataframe\">\n",
       "  <thead>\n",
       "    <tr style=\"text-align: right;\">\n",
       "      <th></th>\n",
       "      <th>Tough Grader</th>\n",
       "      <th>Good Feedback</th>\n",
       "      <th>Respected</th>\n",
       "      <th>Lots to Read</th>\n",
       "      <th>Participation Matters</th>\n",
       "      <th>Don’t Skip Class</th>\n",
       "      <th>Lots of Homework</th>\n",
       "      <th>Inspirational</th>\n",
       "      <th>Pop Quizzes</th>\n",
       "      <th>Accessible</th>\n",
       "      <th>So Many Papers</th>\n",
       "      <th>Clear Grading</th>\n",
       "      <th>Hilarious</th>\n",
       "      <th>Test Heavy</th>\n",
       "      <th>Graded by Few Things</th>\n",
       "      <th>Amazing Lectures</th>\n",
       "      <th>Caring</th>\n",
       "      <th>Extra Credit</th>\n",
       "      <th>Group Projects</th>\n",
       "      <th>Lecture Heavy</th>\n",
       "    </tr>\n",
       "  </thead>\n",
       "  <tbody>\n",
       "    <tr>\n",
       "      <th>0</th>\n",
       "      <td>0</td>\n",
       "      <td>0</td>\n",
       "      <td>0</td>\n",
       "      <td>0</td>\n",
       "      <td>0</td>\n",
       "      <td>1</td>\n",
       "      <td>0</td>\n",
       "      <td>0</td>\n",
       "      <td>0</td>\n",
       "      <td>0</td>\n",
       "      <td>0</td>\n",
       "      <td>0</td>\n",
       "      <td>0</td>\n",
       "      <td>0</td>\n",
       "      <td>0</td>\n",
       "      <td>0</td>\n",
       "      <td>0</td>\n",
       "      <td>0</td>\n",
       "      <td>0</td>\n",
       "      <td>1</td>\n",
       "    </tr>\n",
       "    <tr>\n",
       "      <th>1</th>\n",
       "      <td>0</td>\n",
       "      <td>0</td>\n",
       "      <td>0</td>\n",
       "      <td>0</td>\n",
       "      <td>0</td>\n",
       "      <td>0</td>\n",
       "      <td>0</td>\n",
       "      <td>0</td>\n",
       "      <td>0</td>\n",
       "      <td>0</td>\n",
       "      <td>0</td>\n",
       "      <td>0</td>\n",
       "      <td>0</td>\n",
       "      <td>0</td>\n",
       "      <td>0</td>\n",
       "      <td>0</td>\n",
       "      <td>0</td>\n",
       "      <td>0</td>\n",
       "      <td>0</td>\n",
       "      <td>0</td>\n",
       "    </tr>\n",
       "    <tr>\n",
       "      <th>2</th>\n",
       "      <td>2</td>\n",
       "      <td>1</td>\n",
       "      <td>2</td>\n",
       "      <td>1</td>\n",
       "      <td>0</td>\n",
       "      <td>4</td>\n",
       "      <td>2</td>\n",
       "      <td>0</td>\n",
       "      <td>0</td>\n",
       "      <td>0</td>\n",
       "      <td>0</td>\n",
       "      <td>0</td>\n",
       "      <td>0</td>\n",
       "      <td>0</td>\n",
       "      <td>0</td>\n",
       "      <td>0</td>\n",
       "      <td>0</td>\n",
       "      <td>0</td>\n",
       "      <td>0</td>\n",
       "      <td>0</td>\n",
       "    </tr>\n",
       "    <tr>\n",
       "      <th>3</th>\n",
       "      <td>6</td>\n",
       "      <td>3</td>\n",
       "      <td>0</td>\n",
       "      <td>0</td>\n",
       "      <td>2</td>\n",
       "      <td>4</td>\n",
       "      <td>2</td>\n",
       "      <td>1</td>\n",
       "      <td>0</td>\n",
       "      <td>0</td>\n",
       "      <td>0</td>\n",
       "      <td>2</td>\n",
       "      <td>1</td>\n",
       "      <td>0</td>\n",
       "      <td>0</td>\n",
       "      <td>0</td>\n",
       "      <td>0</td>\n",
       "      <td>0</td>\n",
       "      <td>1</td>\n",
       "      <td>0</td>\n",
       "    </tr>\n",
       "    <tr>\n",
       "      <th>4</th>\n",
       "      <td>0</td>\n",
       "      <td>0</td>\n",
       "      <td>0</td>\n",
       "      <td>0</td>\n",
       "      <td>0</td>\n",
       "      <td>0</td>\n",
       "      <td>0</td>\n",
       "      <td>0</td>\n",
       "      <td>0</td>\n",
       "      <td>0</td>\n",
       "      <td>0</td>\n",
       "      <td>0</td>\n",
       "      <td>0</td>\n",
       "      <td>0</td>\n",
       "      <td>0</td>\n",
       "      <td>0</td>\n",
       "      <td>0</td>\n",
       "      <td>0</td>\n",
       "      <td>0</td>\n",
       "      <td>0</td>\n",
       "    </tr>\n",
       "  </tbody>\n",
       "</table>\n",
       "</div>"
      ],
      "text/plain": [
       "   Tough Grader  Good Feedback  Respected  Lots to Read  \\\n",
       "0             0              0          0             0   \n",
       "1             0              0          0             0   \n",
       "2             2              1          2             1   \n",
       "3             6              3          0             0   \n",
       "4             0              0          0             0   \n",
       "\n",
       "   Participation Matters  Don’t Skip Class  Lots of Homework  Inspirational  \\\n",
       "0                      0                 1                 0              0   \n",
       "1                      0                 0                 0              0   \n",
       "2                      0                 4                 2              0   \n",
       "3                      2                 4                 2              1   \n",
       "4                      0                 0                 0              0   \n",
       "\n",
       "   Pop Quizzes  Accessible  So Many Papers  Clear Grading  Hilarious  \\\n",
       "0            0           0               0              0          0   \n",
       "1            0           0               0              0          0   \n",
       "2            0           0               0              0          0   \n",
       "3            0           0               0              2          1   \n",
       "4            0           0               0              0          0   \n",
       "\n",
       "   Test Heavy  Graded by Few Things  Amazing Lectures  Caring  Extra Credit  \\\n",
       "0           0                     0                 0       0             0   \n",
       "1           0                     0                 0       0             0   \n",
       "2           0                     0                 0       0             0   \n",
       "3           0                     0                 0       0             0   \n",
       "4           0                     0                 0       0             0   \n",
       "\n",
       "   Group Projects  Lecture Heavy  \n",
       "0               0              1  \n",
       "1               0              0  \n",
       "2               0              0  \n",
       "3               1              0  \n",
       "4               0              0  "
      ]
     },
     "execution_count": 77,
     "metadata": {},
     "output_type": "execute_result"
    }
   ],
   "source": [
    "tags_file = \"/Users/kangkyeongmo/Desktop/School/2024_Fall/DS-GA_1001_001/Group_Project/Capstone/rmpCapstoneTags.csv\"\n",
    "\n",
    "tags_columns = [\n",
    "    \"Tough Grader\", \"Good Feedback\", \"Respected\", \"Lots to Read\",\n",
    "    \"Participation Matters\", \"Don’t Skip Class\", \"Lots of Homework\",\n",
    "    \"Inspirational\", \"Pop Quizzes\", \"Accessible\", \"So Many Papers\",\n",
    "    \"Clear Grading\", \"Hilarious\", \"Test Heavy\", \"Graded by Few Things\",\n",
    "    \"Amazing Lectures\", \"Caring\", \"Extra Credit\", \"Group Projects\",\n",
    "    \"Lecture Heavy\"\n",
    "]\n",
    "df_tags = pd.read_csv(tags_file, header=None, names=tags_columns)\n",
    "\n",
    "df_tags.head()\n"
   ]
  },
  {
   "cell_type": "code",
   "execution_count": 78,
   "metadata": {},
   "outputs": [
    {
     "data": {
      "text/plain": [
       "<bound method NDFrame.head of             Major/Field                   University State\n",
       "0      Criminal Justice      George Mason University    VA\n",
       "1                   NaN                          NaN   NaN\n",
       "2               English     Alabama State University    AL\n",
       "3               English       University of Kentucky    KY\n",
       "4               English            Keiser University    FL\n",
       "...                 ...                          ...   ...\n",
       "89888  Computer Science        Texas Tech University    TX\n",
       "89889           Theater       University of Winnipeg    MB\n",
       "89890  Criminal Justice  Salt Lake Community College    UT\n",
       "89891            French         University of Ottawa    ON\n",
       "89892               NaN                          NaN   NaN\n",
       "\n",
       "[89893 rows x 3 columns]>"
      ]
     },
     "execution_count": 78,
     "metadata": {},
     "output_type": "execute_result"
    }
   ],
   "source": [
    "qual_file = \"/Users/kangkyeongmo/Desktop/School/2024_Fall/DS-GA_1001_001/Group_Project/Capstone/rmpCapstoneQual.csv\"\n",
    "\n",
    "qual_columns = [\"Major/Field\", \"University\", \"State\"]\n",
    "\n",
    "df_qual = pd.read_csv(qual_file, header=None, names=qual_columns)\n",
    "\n",
    "df_qual.head\n"
   ]
  },
  {
   "cell_type": "code",
   "execution_count": 79,
   "metadata": {},
   "outputs": [],
   "source": [
    "# Set a threshold for the minimum number of ratings\n",
    "k = df_num[\"Number of Ratings\"].mean()\n",
    "filtered_df_num = df_num[df_num[\"Number of Ratings\"] >= k]\n",
    "filtered_df_tags = df_tags.loc[filtered_df_num.index]\n",
    "filtered_df_qual = df_qual.loc[filtered_df_num.index]\n"
   ]
  },
  {
   "cell_type": "markdown",
   "metadata": {},
   "source": [
    "Normalizing the tag data because \n",
    "- Making tage counts proportionla to the total raitings \n",
    "- ALlows meaningful comparisons between professors with varying number of ratings\n",
    " - Ensures that statistical tests and regression models are not biased by professors with more raitings."
   ]
  },
  {
   "cell_type": "code",
   "execution_count": 80,
   "metadata": {},
   "outputs": [
    {
     "name": "stdout",
     "output_type": "stream",
     "text": [
      "    Tough Grader  Good Feedback  Respected  Lots to Read  \\\n",
      "3       0.600000       0.300000   0.000000      0.000000   \n",
      "5       0.363636       0.590909   0.045455      0.136364   \n",
      "21      0.400000       0.300000   0.000000      0.000000   \n",
      "25      0.375000       0.312500   0.250000      0.062500   \n",
      "27      0.000000       0.375000   0.250000      0.250000   \n",
      "\n",
      "    Participation Matters  Don’t Skip Class  Lots of Homework  Inspirational  \\\n",
      "3                0.200000          0.400000          0.200000       0.100000   \n",
      "5                0.090909          0.136364          0.090909       0.045455   \n",
      "21               0.200000          0.000000          0.100000       0.100000   \n",
      "25               0.062500          0.000000          0.000000       0.437500   \n",
      "27               0.125000          0.000000          0.000000       0.250000   \n",
      "\n",
      "    Pop Quizzes  Accessible  So Many Papers  Clear Grading  Hilarious  \\\n",
      "3        0.0000    0.000000             0.0       0.200000   0.100000   \n",
      "5        0.0000    0.136364             0.0       0.318182   0.136364   \n",
      "21       0.0000    0.000000             0.0       0.000000   0.000000   \n",
      "25       0.0625    0.187500             0.0       0.000000   0.062500   \n",
      "27       0.0000    0.000000             0.0       0.000000   0.000000   \n",
      "\n",
      "    Test Heavy  Graded by Few Things  Amazing Lectures    Caring  \\\n",
      "3          0.0                   0.0             0.000  0.000000   \n",
      "5          0.0                   0.0             0.000  0.136364   \n",
      "21         0.0                   0.0             0.100  0.100000   \n",
      "25         0.0                   0.0             0.125  0.625000   \n",
      "27         0.0                   0.0             0.000  0.250000   \n",
      "\n",
      "    Extra Credit  Group Projects  Lecture Heavy  \n",
      "3            0.0        0.100000       0.000000  \n",
      "5            0.0        0.045455       0.136364  \n",
      "21           0.0        0.500000       0.100000  \n",
      "25           0.0        0.000000       0.062500  \n",
      "27           0.0        0.000000       0.000000  \n"
     ]
    }
   ],
   "source": [
    "# Normalize Tag Data \n",
    "filtered_df_tags_normalized = filtered_df_tags.div(filtered_df_num[\"Number of Ratings\"], axis=0)\n",
    "print(filtered_df_tags_normalized.head())"
   ]
  },
  {
   "cell_type": "code",
   "execution_count": 81,
   "metadata": {},
   "outputs": [
    {
     "name": "stdout",
     "output_type": "stream",
     "text": [
      "Average Rating             float64\n",
      "Average Difficulty         float64\n",
      "Number of Ratings          float64\n",
      "Received a 'pepper'?       float64\n",
      "Proportion Would Retake    float64\n",
      "Online Ratings Count       float64\n",
      "Male                         int64\n",
      "Female                       int64\n",
      "dtype: object\n"
     ]
    }
   ],
   "source": [
    "print(filtered_df_num.dtypes)"
   ]
  },
  {
   "cell_type": "code",
   "execution_count": 82,
   "metadata": {},
   "outputs": [
    {
     "name": "stdout",
     "output_type": "stream",
     "text": [
      "Average Rating                0\n",
      "Average Difficulty            0\n",
      "Number of Ratings             0\n",
      "Received a 'pepper'?          0\n",
      "Proportion Would Retake    8639\n",
      "Online Ratings Count          0\n",
      "Male                          0\n",
      "Female                        0\n",
      "dtype: int64\n"
     ]
    }
   ],
   "source": [
    "print(filtered_df_num.isnull().sum())\n",
    "#print(filtered_df_tags.isnull().sum())\n",
    "#print(filtered_df_qual.isnull().sum())"
   ]
  },
  {
   "cell_type": "markdown",
   "metadata": {},
   "source": [
    "### Q2. Is there a gender difference in the spread (variance/dispersion) of the ratings distribution? Again, it is advisable to consider  the statistical significance of any observed gender differences in this spread."
   ]
  },
  {
   "cell_type": "code",
   "execution_count": 83,
   "metadata": {},
   "outputs": [
    {
     "name": "stdout",
     "output_type": "stream",
     "text": [
      "H0 (Variance): No difference in variances (spread) between male and female ratings.\n",
      "H1 (Variance): There is a difference in variances (spread) between male and female ratings.\n",
      "\n",
      "H0 (KS Test): Male and female ratings come from the same distribution.\n",
      "H1 (KS Test): Male and female ratings come from different distributions.\n"
     ]
    }
   ],
   "source": [
    "# === Hypotheses ===\n",
    "# Test1 Bootstrapping for Variance Differences\n",
    "print(\"H0 (Variance): No difference in variances (spread) between male and female ratings.\")\n",
    "print(\"H1 (Variance): There is a difference in variances (spread) between male and female ratings.\")\n",
    "# Test2: KS Test for Comparing the overal distributions  \n",
    "print(\"\\nH0 (KS Test): Male and female ratings come from the same distribution.\")\n",
    "print(\"H1 (KS Test): Male and female ratings come from different distributions.\")\n",
    "\n",
    "# Separate normalized data by professor's gender\n",
    "male_ratings = filtered_df_num[filtered_df_num[\"Male\"] == 1][\"Average Rating\"].dropna()\n",
    "female_ratings = filtered_df_num[filtered_df_num[\"Female\"] == 1][\"Average Rating\"].dropna()"
   ]
  },
  {
   "cell_type": "code",
   "execution_count": 84,
   "metadata": {},
   "outputs": [
    {
     "name": "stdout",
     "output_type": "stream",
     "text": [
      "95% Confidence Interval for Variance Difference: (-0.1008, -0.0277)\n",
      "\n",
      "Reject H0: Variances are significantly different.\n"
     ]
    }
   ],
   "source": [
    "# === Bootstrapping for Variance ===\n",
    "def bootstrap_variance_diff(group1, group2, n_bootstrap=1000, seed=None):\n",
    "    rng = np.random.default_rng(seed)\n",
    "    var_diffs = []\n",
    "    for _ in range(n_bootstrap):\n",
    "        sample1 = rng.choice(group1, size=len(group1), replace=True)\n",
    "        sample2 = rng.choice(group2, size=len(group2), replace=True)\n",
    "        var_diffs.append(np.var(sample1, ddof=1) - np.var(sample2, ddof=1))\n",
    "    lower_bound = np.percentile(var_diffs, 2.5)\n",
    "    upper_bound = np.percentile(var_diffs, 97.5)\n",
    "    return var_diffs, lower_bound, upper_bound\n",
    "\n",
    "# Perform bootstrapping\n",
    "rng = np.random.default_rng(17010868)  # Seed for reproducibility\n",
    "bootstrap_diffs, ci_lower, ci_upper = bootstrap_variance_diff(\n",
    "    male_ratings.values, female_ratings.values, n_bootstrap=1000, seed=17010868\n",
    ")\n",
    "\n",
    "# Calculate mean variance difference\n",
    "mean_diff = np.mean(bootstrap_diffs)\n",
    "#print(f\"Mean Variance Difference: {mean_diff:.4f}\")\n",
    "print(f\"95% Confidence Interval for Variance Difference: ({ci_lower:.4f}, {ci_upper:.4f})\")\n",
    "\n",
    "# Interpret bootstrap results\n",
    "if ci_lower <= 0 <= ci_upper:\n",
    "    print(\"\\nFail to reject H0: No significant difference in variances.\")\n",
    "else:\n",
    "    print(\"\\nReject H0: Variances are significantly different.\")"
   ]
  },
  {
   "cell_type": "code",
   "execution_count": 85,
   "metadata": {},
   "outputs": [
    {
     "data": {
      "image/png": "[encoded data removed]",
      "text/plain": [
       "<Figure size 640x480 with 1 Axes>"
      ]
     },
     "metadata": {},
     "output_type": "display_data"
    }
   ],
   "source": [
    "import matplotlib.pyplot as plt\n",
    "\n",
    "# Visualize bootstrap \n",
    "plt.hist(bootstrap_diffs, bins=30, edgecolor='k', alpha=0.7)\n",
    "plt.axvline(ci_lower, color='red', linestyle='--', label='2.5% CI')\n",
    "plt.axvline(ci_upper, color='red', linestyle='--', label='97.5% CI')\n",
    "plt.axvline(mean_diff, color='yellow', linestyle='-', label='Mean Estimate')\n",
    "plt.title(\"Bootstrap Distribution of Variance Differences (Male - Female)\")\n",
    "plt.xlabel(\"Difference in Variance (Male - Female)\")\n",
    "plt.ylabel(\"Frequency\")\n",
    "plt.legend()\n",
    "plt.show()"
   ]
  },
  {
   "cell_type": "code",
   "execution_count": 86,
   "metadata": {},
   "outputs": [
    {
     "name": "stdout",
     "output_type": "stream",
     "text": [
      "\n",
      "KS Test: Statistic=0.0278, p-value=0.0041\n",
      "Fail to reject H0: No significant difference in distributions.\n"
     ]
    }
   ],
   "source": [
    "from scipy.stats import ks_2samp\n",
    "\n",
    "# === KS Test for Distribution Differences ===\n",
    "ks_stat, ks_p = ks_2samp(male_ratings, female_ratings)\n",
    "print(f\"\\nKS Test: Statistic={ks_stat:.4f}, p-value={ks_p:.4f}\")\n",
    "\n",
    "# Interpret KS test results\n",
    "if ks_p < 0.0005:\n",
    "    print(\"Reject H0: Distributions are significantly different.\")\n",
    "else:\n",
    "    print(\"Fail to reject H0: No significant difference in distributions.\")"
   ]
  },
  {
   "cell_type": "markdown",
   "metadata": {},
   "source": [
    "### Q4. Is there a gender difference in the tags awarded by students? Make sure to teach each of the 20 tags for a potential gender difference and report which of them exhibit a statistically significant different. Comment on the 3 most gendered (lowest p-value) and least gendered (highest p-value) tags."
   ]
  },
  {
   "cell_type": "code",
   "execution_count": 87,
   "metadata": {},
   "outputs": [
    {
     "name": "stdout",
     "output_type": "stream",
     "text": [
      "H0 (Null Hypothesis): There is no gender difference in the tag usage.\n",
      "H1 (Alternative Hypothesis): There is a gender difference in the tag usage.\n"
     ]
    }
   ],
   "source": [
    "from scipy.stats import mannwhitneyu\n",
    "\n",
    "# Hypotheses \n",
    "print(\"H0 (Null Hypothesis): There is no gender difference in the tag usage.\")\n",
    "print(\"H1 (Alternative Hypothesis): There is a gender difference in the tag usage.\")\n",
    "\n",
    "# Separate normalized tag data by gender\n",
    "male_tags = filtered_df_tags_normalized[filtered_df_num[\"Male\"] == 1]\n",
    "female_tags = filtered_df_tags_normalized[filtered_df_num[\"Female\"] == 1]"
   ]
  },
  {
   "cell_type": "markdown",
   "metadata": {},
   "source": [
    "Use the Mann-Whitney U Test since it compares two independent groups without assuming normality."
   ]
  },
  {
   "cell_type": "code",
   "execution_count": 88,
   "metadata": {},
   "outputs": [],
   "source": [
    "# Perform Mann-Whitney U test for each tag\n",
    "results = []\n",
    "for tag in filtered_df_tags_normalized.columns:\n",
    "    male_values = male_tags[tag].dropna()\n",
    "    female_values = female_tags[tag].dropna()\n",
    "    \n",
    "    # Mann-Whitney U Test\n",
    "    u_stat, p_val = mannwhitneyu(male_values, female_values, alternative='two-sided')\n",
    "    results.append({\"Tag\": tag, \"U-statistic\": u_stat, \"p-value\": p_val})\n",
    "\n",
    "# Convert results to a DataFrame\n",
    "results_df = pd.DataFrame(results)\n",
    "\n",
    "# Sort by p-value\n",
    "results_df.sort_values(by=\"p-value\", inplace=True)\n",
    "\n",
    "# Identify significant tags \n",
    "significant_tags = results_df[results_df[\"p-value\"] < 0.0005]"
   ]
  },
  {
   "cell_type": "code",
   "execution_count": 89,
   "metadata": {},
   "outputs": [
    {
     "name": "stdout",
     "output_type": "stream",
     "text": [
      "\n",
      "Most Gendered Tags (Lowest p-values):\n",
      "                 Tag  U-statistic        p-value\n",
      "12         Hilarious   39131290.5  3.141429e-130\n",
      "15  Amazing Lectures   35806501.0   1.110858e-33\n",
      "16            Caring   29015686.0   6.374670e-31\n",
      "\n",
      "Least Gendered Tags (Highest p-values):\n",
      "             Tag  U-statistic   p-value\n",
      "7  Inspirational   33250176.5  0.002365\n",
      "9     Accessible   33086256.0  0.011779\n",
      "8    Pop Quizzes   32501489.5  0.641514\n"
     ]
    }
   ],
   "source": [
    "# Identify the most and least gendered tags\n",
    "most_gendered = results_df.head(3)\n",
    "least_gendered = results_df.tail(3)\n",
    "\n",
    "# Display results\n",
    "#print(significant_tags)\n",
    "\n",
    "print(\"\\nMost Gendered Tags (Lowest p-values):\")\n",
    "print(most_gendered)\n",
    "\n",
    "print(\"\\nLeast Gendered Tags (Highest p-values):\")\n",
    "print(least_gendered)"
   ]
  },
  {
   "cell_type": "markdown",
   "metadata": {},
   "source": [
    "Optional to see how many tags are statistically significant out of 20"
   ]
  },
  {
   "cell_type": "code",
   "execution_count": 90,
   "metadata": {},
   "outputs": [
    {
     "name": "stdout",
     "output_type": "stream",
     "text": [
      "\n",
      "Out of 20 tags, 16 tag(s) showed a statistically significant gender difference.\n"
     ]
    }
   ],
   "source": [
    "# Count significant tags \n",
    "num_significant_tags = len(significant_tags)\n",
    "total_tags = len(filtered_df_tags_normalized.columns)\n",
    "\n",
    "print(f\"\\nOut of {total_tags} tags, {num_significant_tags} tag(s) showed a statistically significant gender difference.\")"
   ]
  },
  {
   "cell_type": "markdown",
   "metadata": {},
   "source": [
    "### Q8. Build a regression model predicting average ratings from all tags (the ones in the rmpCapstoneTags.csv) file. Make sure to include the R2 and RMSE of this model. Which of these tags is most strongly predictive of average rating? Hint: Make sure to address collinearity concerns. Also comment on how this model compares to the previous one."
   ]
  },
  {
   "cell_type": "markdown",
   "metadata": {},
   "source": [
    "Evaluate the Model:\n",
    "- Compute  R^2  (coefficient of determination) to measure the model’s goodness-of-fit.\n",
    "- Compute RMSE (Root Mean Square Error) to assess prediction accuracy."
   ]
  },
  {
   "cell_type": "code",
   "execution_count": 115,
   "metadata": {},
   "outputs": [],
   "source": [
    "from sklearn.model_selection import train_test_split\n",
    "from sklearn.linear_model import LinearRegression\n",
    "from sklearn.metrics import r2_score, mean_squared_error\n",
    "from statsmodels.stats.outliers_influence import variance_inflation_factor\n",
    "\n",
    "\n",
    "# === Prepare Data ===\n",
    "# Predictors: Normalized Tags\n",
    "X = filtered_df_tags_normalized\n",
    "\n",
    "# Target: Average Rating\n",
    "y = filtered_df_num[\"Average Rating\"]\n",
    "\n",
    "# Handle missing values\n",
    "X = X.fillna(0)\n",
    "y = y.fillna(y.mean())\n",
    "\n",
    "# Train-test split (80:20)\n",
    "X_train, X_test, y_train, y_test = train_test_split(X, y, test_size=0.2, random_state=17010868) "
   ]
  },
  {
   "cell_type": "code",
   "execution_count": 116,
   "metadata": {},
   "outputs": [
    {
     "name": "stdout",
     "output_type": "stream",
     "text": [
      "R^2: 0.7339\n",
      "RMSE: 0.4842\n"
     ]
    }
   ],
   "source": [
    "# === Fit Regression Model ===\n",
    "model = LinearRegression()\n",
    "model.fit(X_train, y_train)\n",
    "\n",
    "# Predictions and evaluation\n",
    "y_pred = model.predict(X_test)\n",
    "r2 = r2_score(y_test, y_pred)\n",
    "rmse = np.sqrt(mean_squared_error(y_test, y_pred))\n",
    "\n",
    "print(f\"R^2: {r2:.4f}\")\n",
    "print(f\"RMSE: {rmse:.4f}\")"
   ]
  },
  {
   "cell_type": "code",
   "execution_count": 118,
   "metadata": {},
   "outputs": [
    {
     "name": "stdout",
     "output_type": "stream",
     "text": [
      "\n",
      "Regression Coefficients:\n",
      "                      Tag  Coefficient\n",
      "15       Amazing Lectures     1.199091\n",
      "1           Good Feedback     1.018533\n",
      "2               Respected     1.002837\n",
      "11          Clear Grading     0.969712\n",
      "16                 Caring     0.867515\n",
      "12              Hilarious     0.772140\n",
      "9              Accessible     0.584910\n",
      "7           Inspirational     0.517525\n",
      "17           Extra Credit     0.406457\n",
      "4   Participation Matters     0.394699\n",
      "5        Don’t Skip Class     0.251717\n",
      "8             Pop Quizzes     0.075536\n",
      "3            Lots to Read     0.056631\n",
      "18         Group Projects    -0.126396\n",
      "6        Lots of Homework    -0.161376\n",
      "14   Graded by Few Things    -0.390492\n",
      "19          Lecture Heavy    -0.429708\n",
      "10         So Many Papers    -0.519917\n",
      "13             Test Heavy    -0.541420\n",
      "0            Tough Grader    -1.009853\n"
     ]
    }
   ],
   "source": [
    "# === Analyze Coefficients ===\n",
    "coefficients = pd.DataFrame({\n",
    "    \"Tag\": X.columns,\n",
    "    \"Coefficient\": model.coef_\n",
    "}).sort_values(by=\"Coefficient\", ascending=False)\n",
    "\n",
    "print(\"\\nRegression Coefficients:\")\n",
    "print(coefficients)\n",
    "\n"
   ]
  },
  {
   "cell_type": "markdown",
   "metadata": {},
   "source": [
    "Interpretation:\n",
    "- VIF = 1, No collinearity\n",
    "- VIF > 5, Moderate collinearity, worth to investigating\n",
    "- VIF > 10, Severe collinearity"
   ]
  },
  {
   "cell_type": "code",
   "execution_count": 126,
   "metadata": {},
   "outputs": [
    {
     "name": "stdout",
     "output_type": "stream",
     "text": [
      "\n",
      "Variance Inflation Factors (VIF):\n",
      "                  Feature        VIF\n",
      "0               Intercept  28.549314\n",
      "1            Tough Grader   1.654798\n",
      "2           Good Feedback   1.313172\n",
      "3               Respected   1.439228\n",
      "4            Lots to Read   1.224156\n",
      "5   Participation Matters   1.129465\n",
      "6        Don’t Skip Class   1.179783\n",
      "7        Lots of Homework   1.253289\n",
      "8           Inspirational   1.391394\n",
      "9             Pop Quizzes   1.052375\n",
      "10             Accessible   1.086536\n",
      "11         So Many Papers   1.102484\n",
      "12          Clear Grading   1.200905\n",
      "13              Hilarious   1.212977\n",
      "14             Test Heavy   1.163934\n",
      "15   Graded by Few Things   1.110317\n",
      "16       Amazing Lectures   1.286716\n",
      "17                 Caring   1.414295\n",
      "18           Extra Credit   1.068303\n",
      "19         Group Projects   1.068989\n",
      "20          Lecture Heavy   1.275913\n",
      "\n",
      "Features with High Multicollinearity (VIF > 5):\n",
      "     Feature        VIF\n",
      "0  Intercept  28.549314\n"
     ]
    }
   ],
   "source": [
    "# === Address Multicollinearity: Calculate VIF ===\n",
    "# Add a constant(intercept) for VIF calculation\n",
    "X_with_const = np.hstack([np.ones((X_train.shape[0], 1)), X_train.values])\n",
    "vif_data = pd.DataFrame({\n",
    "    \"Feature\": [\"Intercept\"] + list(X.columns),\n",
    "    \"VIF\": [variance_inflation_factor(X_with_const, i) for i in range(X_with_const.shape[1])]\n",
    "})\n",
    "\n",
    "print(\"\\nVariance Inflation Factors (VIF):\")\n",
    "print(vif_data)\n",
    "\n",
    "# Highlight features with high VIF\n",
    "high_vif = vif_data[vif_data[\"VIF\"] > 5]\n",
    "if not high_vif.empty:\n",
    "    print(\"\\nFeatures with High Multicollinearity (VIF > 5):\")\n",
    "    print(high_vif)\n"
   ]
  },
  {
   "cell_type": "code",
   "execution_count": 124,
   "metadata": {},
   "outputs": [
    {
     "data": {
      "image/png": "[encoded data removed]",
      "text/plain": [
       "<Figure size 1000x600 with 1 Axes>"
      ]
     },
     "metadata": {},
     "output_type": "display_data"
    }
   ],
   "source": [
    "# === Visualize Coefficients ===\n",
    "plt.figure(figsize=(10, 6))\n",
    "plt.bar(coefficients[\"Tag\"], coefficients[\"Coefficient\"])\n",
    "plt.xticks(rotation=90)\n",
    "plt.title(\"Regression Coefficients for Each Tag\")\n",
    "plt.xlabel(\"Tags\")\n",
    "plt.ylabel(\"Coefficient\")\n",
    "plt.tight_layout()\n",
    "plt.show()"
   ]
  }
 ],
 "metadata": {
  "kernelspec": {
   "display_name": "base",
   "language": "python",
   "name": "python3"
  },
  "language_info": {
   "codemirror_mode": {
    "name": "ipython",
    "version": 3
   },
   "file_extension": ".py",
   "mimetype": "text/x-python",
   "name": "python",
   "nbconvert_exporter": "python",
   "pygments_lexer": "ipython3",
   "version": "3.12.2"
  }
 },
 "nbformat": 4,
 "nbformat_minor": 2
}
